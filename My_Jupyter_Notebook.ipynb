{
 "cells": [
  {
   "cell_type": "markdown",
   "metadata": {
    "collapsed": true
   },
   "source": [
    "# Working in Jupyter Notebook with IBM Cloud"
   ]
  },
  {
   "cell_type": "markdown",
   "metadata": {},
   "source": [
    "Python support is provided through a fork of the boto3 library with features to make the most of IBM Cloud Object Storage.\n",
    "\n",
    "It can be installed from the Python Package Index through pip install ibm-cos-sdk."
   ]
  },
  {
   "cell_type": "code",
   "execution_count": 1,
   "metadata": {},
   "outputs": [],
   "source": [
    "import ibm_boto3\n",
    "from ibm_botocore.client import Config, ClientError\n",
    "import pandas as pd\n",
    "import io"
   ]
  },
  {
   "cell_type": "code",
   "execution_count": 53,
   "metadata": {},
   "outputs": [],
   "source": [
    "cos_credentials={\n",
    "  \"apikey\": \"xxxxxxxxxxxxxxxxxxxxxxxxxxxxxxxxxxxxxxxxxxxxx\",\n",
    "  \"endpoints\": \"https://control.cloud-object-storage.cloud.ibm.com/v2/endpoints\",\n",
    "  \"iam_apikey_description\": \"xxxxxxxxxxxxxxxxxxxxxxxx\",\n",
    "  \"iam_apikey_name\": \"xxxxxxxxxxxxxxxxxxxxxx\",\n",
    "  \"iam_role_crn\": \"xxxxxxxxxxxxxxxxxxxxxxxxx\",\n",
    "  \"iam_serviceid_crn\": \"crn:v1:bluemix:public:iam-identity:xxxxxxxxxxxxxxxxxxxxxxxxxxxxxxxxxxx\",\n",
    "  \"resource_instance_id\": \"crn:v1:bluemix:public:cloud-object-storage:global:xxxxxxxxxxxxxxxxxxxxxxxxxxxxxxx:\"\n",
    "}\n",
    "# Constants for IBM COS values\n",
    "auth_endpoint = 'https://iam.cloud.ibm.com/identity/token' # Current list avaiable at https://control.cloud-object-storage.cloud.ibm.com/v2/endpoints\n",
    "service_endpoint = 'https://s3.private.eu-de.cloud-object-storage.appdomain.cloud'"
   ]
  },
  {
   "cell_type": "markdown",
   "metadata": {},
   "source": [
    "# Client operations\n",
    "A client provides a low-level interface to the COS S3 API. This allows for processing HTTP responses directly, rather than making use of abstracted methods and attributes provided by a resource to access the information contained in headers or XML response payloads."
   ]
  },
  {
   "cell_type": "code",
   "execution_count": 106,
   "metadata": {},
   "outputs": [],
   "source": [
    "#Create client\n",
    "cos = ibm_boto3.client('s3',\n",
    "                         ibm_api_key_id=cos_credentials['apikey'],\n",
    "                        ibm_service_instance_id=cos_credentials['resource_instance_id'],\n",
    "                         ibm_auth_endpoint=auth_endpoint,\n",
    "                         config=Config(signature_version='oauth'),\n",
    "                         endpoint_url=service_endpoint)"
   ]
  },
  {
   "cell_type": "code",
   "execution_count": 107,
   "metadata": {},
   "outputs": [
    {
     "data": {
      "text/plain": [
       "['_PY_TO_OP_NAME',\n",
       " '__class__',\n",
       " '__delattr__',\n",
       " '__dict__',\n",
       " '__dir__',\n",
       " '__doc__',\n",
       " '__eq__',\n",
       " '__format__',\n",
       " '__ge__',\n",
       " '__getattr__',\n",
       " '__getattribute__',\n",
       " '__gt__',\n",
       " '__hash__',\n",
       " '__init__',\n",
       " '__init_subclass__',\n",
       " '__le__',\n",
       " '__lt__',\n",
       " '__module__',\n",
       " '__ne__',\n",
       " '__new__',\n",
       " '__reduce__',\n",
       " '__reduce_ex__',\n",
       " '__repr__',\n",
       " '__setattr__',\n",
       " '__sizeof__',\n",
       " '__str__',\n",
       " '__subclasshook__',\n",
       " '__weakref__',\n",
       " '_cache',\n",
       " '_client_config',\n",
       " '_convert_to_request_dict',\n",
       " '_emit_api_params',\n",
       " '_endpoint',\n",
       " '_exceptions',\n",
       " '_exceptions_factory',\n",
       " '_get_waiter_config',\n",
       " '_load_exceptions',\n",
       " '_loader',\n",
       " '_make_api_call',\n",
       " '_make_request',\n",
       " '_register_handlers',\n",
       " '_request_signer',\n",
       " '_response_parser',\n",
       " '_serializer',\n",
       " '_service_model',\n",
       " 'abort_multipart_upload',\n",
       " 'add_legal_hold',\n",
       " 'can_paginate',\n",
       " 'complete_multipart_upload',\n",
       " 'copy',\n",
       " 'copy_object',\n",
       " 'create_bucket',\n",
       " 'create_multipart_upload',\n",
       " 'delete_bucket',\n",
       " 'delete_bucket_analytics_configuration',\n",
       " 'delete_bucket_cors',\n",
       " 'delete_bucket_inventory_configuration',\n",
       " 'delete_bucket_lifecycle',\n",
       " 'delete_bucket_metrics_configuration',\n",
       " 'delete_bucket_policy',\n",
       " 'delete_bucket_replication',\n",
       " 'delete_bucket_tagging',\n",
       " 'delete_bucket_website',\n",
       " 'delete_legal_hold',\n",
       " 'delete_object',\n",
       " 'delete_object_tagging',\n",
       " 'delete_objects',\n",
       " 'delete_public_access_block',\n",
       " 'download_file',\n",
       " 'download_fileobj',\n",
       " 'exceptions',\n",
       " 'extend_object_retention',\n",
       " 'generate_presigned_post',\n",
       " 'generate_presigned_url',\n",
       " 'get_bucket_accelerate_configuration',\n",
       " 'get_bucket_acl',\n",
       " 'get_bucket_analytics_configuration',\n",
       " 'get_bucket_aspera',\n",
       " 'get_bucket_cors',\n",
       " 'get_bucket_inventory_configuration',\n",
       " 'get_bucket_lifecycle_configuration',\n",
       " 'get_bucket_location',\n",
       " 'get_bucket_metrics_configuration',\n",
       " 'get_bucket_protection_configuration',\n",
       " 'get_bucket_replication',\n",
       " 'get_bucket_tagging',\n",
       " 'get_bucket_versioning',\n",
       " 'get_bucket_website',\n",
       " 'get_object',\n",
       " 'get_object_acl',\n",
       " 'get_object_tagging',\n",
       " 'get_object_torrent',\n",
       " 'get_paginator',\n",
       " 'get_public_access_block',\n",
       " 'get_waiter',\n",
       " 'head_bucket',\n",
       " 'head_object',\n",
       " 'list_bucket_analytics_configurations',\n",
       " 'list_bucket_inventory_configurations',\n",
       " 'list_bucket_metrics_configurations',\n",
       " 'list_buckets',\n",
       " 'list_buckets_extended',\n",
       " 'list_legal_holds',\n",
       " 'list_multipart_uploads',\n",
       " 'list_object_versions',\n",
       " 'list_objects',\n",
       " 'list_objects_v2',\n",
       " 'list_parts',\n",
       " 'meta',\n",
       " 'put_bucket_accelerate_configuration',\n",
       " 'put_bucket_acl',\n",
       " 'put_bucket_analytics_configuration',\n",
       " 'put_bucket_cors',\n",
       " 'put_bucket_inventory_configuration',\n",
       " 'put_bucket_lifecycle_configuration',\n",
       " 'put_bucket_metrics_configuration',\n",
       " 'put_bucket_protection_configuration',\n",
       " 'put_bucket_replication',\n",
       " 'put_bucket_tagging',\n",
       " 'put_bucket_versioning',\n",
       " 'put_bucket_website',\n",
       " 'put_object',\n",
       " 'put_object_acl',\n",
       " 'put_object_tagging',\n",
       " 'put_public_access_block',\n",
       " 'restore_object',\n",
       " 'upload_file',\n",
       " 'upload_fileobj',\n",
       " 'upload_part',\n",
       " 'upload_part_copy',\n",
       " 'waiter_names']"
      ]
     },
     "execution_count": 107,
     "metadata": {},
     "output_type": "execute_result"
    }
   ],
   "source": [
    "dir(cos)"
   ]
  },
  {
   "cell_type": "markdown",
   "metadata": {},
   "source": [
    "## List current buckets \n"
   ]
  },
  {
   "cell_type": "code",
   "execution_count": null,
   "metadata": {},
   "outputs": [],
   "source": [
    "cos.list_buckets()"
   ]
  },
  {
   "cell_type": "markdown",
   "metadata": {},
   "source": [
    "## List Buckets"
   ]
  },
  {
   "cell_type": "code",
   "execution_count": 76,
   "metadata": {},
   "outputs": [
    {
     "name": "stdout",
     "output_type": "stream",
     "text": [
      "apachesparkfundamentals-donotdelete-pr-krj4dovovltwtz\n",
      "jupyternotebookproject-donotdelete-pr-ijhhmanwzaepps\n",
      "mypersonalbucket1\n",
      "ruslanmv-bucket\n"
     ]
    }
   ],
   "source": [
    "for bucket in cos.list_buckets()['Buckets']:\n",
    "    print(bucket['Name'])"
   ]
  },
  {
   "cell_type": "markdown",
   "metadata": {},
   "source": [
    "## Creating sample dataframe"
   ]
  },
  {
   "cell_type": "code",
   "execution_count": 27,
   "metadata": {},
   "outputs": [
    {
     "data": {
      "text/html": [
       "<div>\n",
       "<style scoped>\n",
       "    .dataframe tbody tr th:only-of-type {\n",
       "        vertical-align: middle;\n",
       "    }\n",
       "\n",
       "    .dataframe tbody tr th {\n",
       "        vertical-align: top;\n",
       "    }\n",
       "\n",
       "    .dataframe thead th {\n",
       "        text-align: right;\n",
       "    }\n",
       "</style>\n",
       "<table border=\"1\" class=\"dataframe\">\n",
       "  <thead>\n",
       "    <tr style=\"text-align: right;\">\n",
       "      <th></th>\n",
       "      <th>Name</th>\n",
       "      <th>Age</th>\n",
       "    </tr>\n",
       "  </thead>\n",
       "  <tbody>\n",
       "    <tr>\n",
       "      <th>0</th>\n",
       "      <td>tom</td>\n",
       "      <td>10</td>\n",
       "    </tr>\n",
       "    <tr>\n",
       "      <th>1</th>\n",
       "      <td>nick</td>\n",
       "      <td>15</td>\n",
       "    </tr>\n",
       "    <tr>\n",
       "      <th>2</th>\n",
       "      <td>juli</td>\n",
       "      <td>14</td>\n",
       "    </tr>\n",
       "  </tbody>\n",
       "</table>\n",
       "</div>"
      ],
      "text/plain": [
       "   Name  Age\n",
       "0   tom   10\n",
       "1  nick   15\n",
       "2  juli   14"
      ]
     },
     "execution_count": 27,
     "metadata": {},
     "output_type": "execute_result"
    }
   ],
   "source": [
    "# Import pandas library\n",
    "import pandas as pd\n",
    "\n",
    "# initialize list of lists\n",
    "data = [['tom', 10], ['nick', 15], ['juli', 14]]\n",
    "\n",
    "# Create the pandas DataFrame\n",
    "df = pd.DataFrame(data, columns=['Name', 'Age'])\n",
    "\n",
    "# print dataframe.\n",
    "df\n"
   ]
  },
  {
   "cell_type": "code",
   "execution_count": 10,
   "metadata": {},
   "outputs": [],
   "source": [
    "df.to_csv('out.csv') "
   ]
  },
  {
   "cell_type": "code",
   "execution_count": 12,
   "metadata": {},
   "outputs": [
    {
     "name": "stdout",
     "output_type": "stream",
     "text": [
      "/home/wsuser/work\r\n"
     ]
    }
   ],
   "source": [
    "!pwd"
   ]
  },
  {
   "cell_type": "code",
   "execution_count": 11,
   "metadata": {},
   "outputs": [
    {
     "name": "stdout",
     "output_type": "stream",
     "text": [
      "out.csv\r\n"
     ]
    }
   ],
   "source": [
    "!ls"
   ]
  },
  {
   "cell_type": "code",
   "execution_count": 13,
   "metadata": {},
   "outputs": [],
   "source": [
    "#importing the os module\n",
    "import os\n",
    "\n",
    "#to get the current working directory\n",
    "directory = os.getcwd()"
   ]
  },
  {
   "cell_type": "code",
   "execution_count": 18,
   "metadata": {},
   "outputs": [],
   "source": [
    "\n",
    "# Join various path components\n",
    "file_name=os.path.join(directory, \"out.csv\")"
   ]
  },
  {
   "cell_type": "code",
   "execution_count": 19,
   "metadata": {},
   "outputs": [
    {
     "name": "stdout",
     "output_type": "stream",
     "text": [
      "/home/wsuser/work/out.csv\n"
     ]
    }
   ],
   "source": [
    "print(file_name)"
   ]
  },
  {
   "cell_type": "markdown",
   "metadata": {},
   "source": [
    "## File Uploads"
   ]
  },
  {
   "cell_type": "code",
   "execution_count": 28,
   "metadata": {},
   "outputs": [],
   "source": [
    "def upload_file(file_name, bucket, object_name=None):\n",
    "    \"\"\"Upload a file to an S3 bucket\n",
    "\n",
    "    :param file_name: File to upload\n",
    "    :param bucket: Bucket to upload to\n",
    "    :param object_name: S3 object name. If not specified then file_name is used\n",
    "    :return: True if file was uploaded, else False\n",
    "    \"\"\"\n",
    "\n",
    "    # If S3 object_name was not specified, use file_name\n",
    "    if object_name is None:\n",
    "        object_name = os.path.basename(file_name)\n",
    "\n",
    "    # Upload the file\n",
    "    s3_client = cos\n",
    "    try:\n",
    "        response = s3_client.upload_file(file_name, bucket, object_name)\n",
    "    except ClientError as e:\n",
    "        logging.error(e)\n",
    "        return False\n",
    "    return True"
   ]
  },
  {
   "cell_type": "code",
   "execution_count": 29,
   "metadata": {},
   "outputs": [
    {
     "data": {
      "text/plain": [
       "True"
      ]
     },
     "execution_count": 29,
     "metadata": {},
     "output_type": "execute_result"
    }
   ],
   "source": [
    "upload_file(file_name,'ruslanmv-bucket')"
   ]
  },
  {
   "cell_type": "code",
   "execution_count": 23,
   "metadata": {},
   "outputs": [],
   "source": [
    "# Upload file out.csv from /home/wsuser/work/ folder into project bucket as out.csv\n",
    "cos.upload_file(Filename=file_name,Bucket='ruslanmv-bucket',Key='out.csv')\n"
   ]
  },
  {
   "cell_type": "markdown",
   "metadata": {},
   "source": [
    "## File Downloads\n"
   ]
  },
  {
   "cell_type": "code",
   "execution_count": 35,
   "metadata": {},
   "outputs": [],
   "source": [
    "cos.download_file(Bucket='ruslanmv-bucket',Key='out.csv',Filename='downloaded_out.csv')"
   ]
  },
  {
   "cell_type": "code",
   "execution_count": 36,
   "metadata": {},
   "outputs": [
    {
     "name": "stdout",
     "output_type": "stream",
     "text": [
      "downloaded_out.csv  out2.csv  out.csv\r\n"
     ]
    }
   ],
   "source": [
    "!ls"
   ]
  },
  {
   "cell_type": "code",
   "execution_count": 51,
   "metadata": {},
   "outputs": [],
   "source": [
    "# download file like object \n",
    "with open('object_out.csv', 'wb') as data:\n",
    "    cos.download_fileobj('ruslanmv-bucket', 'out.csv', data)"
   ]
  },
  {
   "cell_type": "code",
   "execution_count": 52,
   "metadata": {},
   "outputs": [
    {
     "name": "stdout",
     "output_type": "stream",
     "text": [
      "total 12\r\n",
      "-rw-rw---- 1 wsuser wscommon 39 Feb 26 15:24 out.csv\r\n",
      "-rw-rw---- 1 wsuser wscommon 39 Feb 26 15:24 downloaded_out.csv\r\n",
      "-rw-rw---- 1 wsuser wscommon 39 Feb 26 15:37 object_out.csv\r\n"
     ]
    }
   ],
   "source": [
    "!ls -ltr"
   ]
  },
  {
   "cell_type": "code",
   "execution_count": null,
   "metadata": {},
   "outputs": [],
   "source": []
  },
  {
   "cell_type": "markdown",
   "metadata": {},
   "source": [
    "from ibm_botocore.client import Config\n",
    "import ibm_boto3\n",
    "\n",
    "def download_file_cos(local_file_name,bucket,key):  \n",
    "    s3_client = cos\n",
    "    try:\n",
    "        res=s3_client.download_file(Bucket=bucket,Key=key,Filename=local_file_name)\n",
    "    except Exception as e:\n",
    "        print(Exception, e)\n",
    "    else:\n",
    "        print('File Downloaded')"
   ]
  },
  {
   "cell_type": "code",
   "execution_count": 68,
   "metadata": {},
   "outputs": [
    {
     "name": "stdout",
     "output_type": "stream",
     "text": [
      "File Downloaded\n"
     ]
    }
   ],
   "source": [
    "download_file_cos('downloaded_out2.csv','ruslanmv-bucket','out.csv')"
   ]
  },
  {
   "cell_type": "markdown",
   "metadata": {},
   "source": [
    "## Create/Delete Buckets"
   ]
  },
  {
   "cell_type": "code",
   "execution_count": null,
   "metadata": {},
   "outputs": [],
   "source": [
    "cos.create_bucket(Bucket='ruslanmv-bucket1-test')"
   ]
  },
  {
   "cell_type": "code",
   "execution_count": 79,
   "metadata": {},
   "outputs": [
    {
     "name": "stdout",
     "output_type": "stream",
     "text": [
      "apachesparkfundamentals-donotdelete-pr-krj4dovovltwtz\n",
      "jupyternotebookproject-donotdelete-pr-ijhhmanwzaepps\n",
      "mypersonalbucket1\n",
      "ruslanmv-bucket\n",
      "ruslanmv-bucket1-test\n"
     ]
    }
   ],
   "source": [
    "for bucket in cos.list_buckets()['Buckets']:\n",
    "    print(bucket['Name'])"
   ]
  },
  {
   "cell_type": "markdown",
   "metadata": {},
   "source": [
    "## Create/Delete Buckets"
   ]
  },
  {
   "cell_type": "code",
   "execution_count": null,
   "metadata": {},
   "outputs": [],
   "source": [
    "cos.delete_bucket(Bucket='ruslanmv-bucket1-test')"
   ]
  },
  {
   "cell_type": "code",
   "execution_count": 110,
   "metadata": {},
   "outputs": [
    {
     "name": "stdout",
     "output_type": "stream",
     "text": [
      "apachesparkfundamentals-donotdelete-pr-krj4dovovltwtz\n",
      "jupyternotebookproject-donotdelete-pr-ijhhmanwzaepps\n",
      "mypersonalbucket1\n",
      "ruslanmv-bucket\n"
     ]
    }
   ],
   "source": [
    "for bucket in cos.list_buckets()['Buckets']:\n",
    "    print(bucket['Name'])"
   ]
  },
  {
   "cell_type": "markdown",
   "metadata": {},
   "source": [
    "For more commands you can visit the documentation of IBM S3 [here]( https://cloud.ibm.com/docs/cloud-object-storage?topic=cloud-object-storage-python) "
   ]
  },
  {
   "cell_type": "markdown",
   "metadata": {},
   "source": [
    "**Congratulations!** we have practice how to upload and download files by using s3 in IBM Cloud"
   ]
  }
 ],
 "metadata": {
  "kernelspec": {
   "display_name": "Python 3 (ipykernel)",
   "language": "python",
   "name": "python3"
  },
  "language_info": {
   "codemirror_mode": {
    "name": "ipython",
    "version": 3
   },
   "file_extension": ".py",
   "mimetype": "text/x-python",
   "name": "python",
   "nbconvert_exporter": "python",
   "pygments_lexer": "ipython3",
   "version": "3.8.0"
  }
 },
 "nbformat": 4,
 "nbformat_minor": 1
}
